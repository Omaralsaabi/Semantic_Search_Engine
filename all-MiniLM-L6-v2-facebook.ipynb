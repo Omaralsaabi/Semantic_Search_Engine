{
 "cells": [
  {
   "cell_type": "code",
   "execution_count": 1,
   "metadata": {},
   "outputs": [
    {
     "name": "stderr",
     "output_type": "stream",
     "text": [
      "/home/omar/Desktop/Logatta/SearchEngine/venv/lib/python3.10/site-packages/tqdm/auto.py:21: TqdmWarning: IProgress not found. Please update jupyter and ipywidgets. See https://ipywidgets.readthedocs.io/en/stable/user_install.html\n",
      "  from .autonotebook import tqdm as notebook_tqdm\n"
     ]
    }
   ],
   "source": [
    "from sentence_transformers import SentenceTransformer, util\n",
    "import torch\n",
    "import numpy as np\n",
    "import pandas as pd\n",
    "import os\n",
    "import pickle\n",
    "import time\n",
    "import re"
   ]
  },
  {
   "cell_type": "code",
   "execution_count": 2,
   "metadata": {},
   "outputs": [],
   "source": [
    "model = SentenceTransformer('all-MiniLM-L6-v2')\n"
   ]
  },
  {
   "cell_type": "code",
   "execution_count": 3,
   "metadata": {},
   "outputs": [],
   "source": [
    "# import data\n",
    "df = pd.read_csv('myDatabase.facebook_posts.csv')"
   ]
  },
  {
   "cell_type": "code",
   "execution_count": 4,
   "metadata": {},
   "outputs": [
    {
     "data": {
      "text/plain": [
       "_id              0\n",
       "Post_Content    22\n",
       "dtype: int64"
      ]
     },
     "execution_count": 4,
     "metadata": {},
     "output_type": "execute_result"
    }
   ],
   "source": [
    "df.isnull().sum()\n"
   ]
  },
  {
   "cell_type": "code",
   "execution_count": 5,
   "metadata": {},
   "outputs": [],
   "source": [
    "# drop rows with null values\n",
    "df = df.dropna()"
   ]
  },
  {
   "cell_type": "code",
   "execution_count": 8,
   "metadata": {},
   "outputs": [
    {
     "data": {
      "text/html": [
       "<div>\n",
       "<style scoped>\n",
       "    .dataframe tbody tr th:only-of-type {\n",
       "        vertical-align: middle;\n",
       "    }\n",
       "\n",
       "    .dataframe tbody tr th {\n",
       "        vertical-align: top;\n",
       "    }\n",
       "\n",
       "    .dataframe thead th {\n",
       "        text-align: right;\n",
       "    }\n",
       "</style>\n",
       "<table border=\"1\" class=\"dataframe\">\n",
       "  <thead>\n",
       "    <tr style=\"text-align: right;\">\n",
       "      <th></th>\n",
       "      <th>_id</th>\n",
       "      <th>Post_Content</th>\n",
       "    </tr>\n",
       "  </thead>\n",
       "  <tbody>\n",
       "    <tr>\n",
       "      <th>0</th>\n",
       "      <td>{'$oid': '645b5de694a0b0947d4ead81'}</td>\n",
       "      <td>وسادة الحمل والرضاعة  الحجم الكبير 180*80 ب سع...</td>\n",
       "    </tr>\n",
       "    <tr>\n",
       "      <th>1</th>\n",
       "      <td>{'$oid': '645b5de694a0b0947d4ead82'}</td>\n",
       "      <td>البلف المضيء ل الاربع كوشوكات ب سعر 4.99 دناني...</td>\n",
       "    </tr>\n",
       "    <tr>\n",
       "      <th>2</th>\n",
       "      <td>{'$oid': '645b5de694a0b0947d4ead83'}</td>\n",
       "      <td>الة تسليك المجاري وعلاج انسداد مواسير الصرف ال...</td>\n",
       "    </tr>\n",
       "    <tr>\n",
       "      <th>3</th>\n",
       "      <td>{'$oid': '645b5de694a0b0947d4ead84'}</td>\n",
       "      <td>مرآة تجميل X10 مع لمبة ليد مريحة للاستخدام-مرن...</td>\n",
       "    </tr>\n",
       "    <tr>\n",
       "      <th>4</th>\n",
       "      <td>{'$oid': '645b5de694a0b0947d4ead85'}</td>\n",
       "      <td>تعبئة فراغات الشعر متوفر لون اسود ولون بنيالعب...</td>\n",
       "    </tr>\n",
       "  </tbody>\n",
       "</table>\n",
       "</div>"
      ],
      "text/plain": [
       "                                    _id  \\\n",
       "0  {'$oid': '645b5de694a0b0947d4ead81'}   \n",
       "1  {'$oid': '645b5de694a0b0947d4ead82'}   \n",
       "2  {'$oid': '645b5de694a0b0947d4ead83'}   \n",
       "3  {'$oid': '645b5de694a0b0947d4ead84'}   \n",
       "4  {'$oid': '645b5de694a0b0947d4ead85'}   \n",
       "\n",
       "                                        Post_Content  \n",
       "0  وسادة الحمل والرضاعة  الحجم الكبير 180*80 ب سع...  \n",
       "1  البلف المضيء ل الاربع كوشوكات ب سعر 4.99 دناني...  \n",
       "2  الة تسليك المجاري وعلاج انسداد مواسير الصرف ال...  \n",
       "3  مرآة تجميل X10 مع لمبة ليد مريحة للاستخدام-مرن...  \n",
       "4  تعبئة فراغات الشعر متوفر لون اسود ولون بنيالعب...  "
      ]
     },
     "execution_count": 8,
     "metadata": {},
     "output_type": "execute_result"
    }
   ],
   "source": [
    "df.head()"
   ]
  },
  {
   "cell_type": "code",
   "execution_count": 9,
   "metadata": {},
   "outputs": [],
   "source": [
    "ids = df['_id'].tolist()\n",
    "names = df['Post_Content'].tolist()"
   ]
  },
  {
   "cell_type": "code",
   "execution_count": 10,
   "metadata": {},
   "outputs": [],
   "source": [
    "# for name in names:\n",
    "#     name = re.sub(r'[^\\w\\s]', '', name)\n",
    "#     name = name.lower()"
   ]
  },
  {
   "cell_type": "code",
   "execution_count": 10,
   "metadata": {},
   "outputs": [],
   "source": [
    "# Embed the dataset \n",
    "name_embeddings = model.encode(names, convert_to_tensor=True)"
   ]
  },
  {
   "cell_type": "code",
   "execution_count": 11,
   "metadata": {},
   "outputs": [
    {
     "data": {
      "text/plain": [
       "torch.Size([21134, 384])"
      ]
     },
     "execution_count": 11,
     "metadata": {},
     "output_type": "execute_result"
    }
   ],
   "source": [
    "name_embeddings.shape"
   ]
  },
  {
   "cell_type": "code",
   "execution_count": 12,
   "metadata": {},
   "outputs": [],
   "source": [
    "def semantic_search(query, embeddings, texts, ids, top_k=100):\n",
    "    # Encode the query\n",
    "    query_embedding = model.encode(query, convert_to_tensor=True)\n",
    "  \n",
    "    # Compute cosine similarity between the query and texts\n",
    "    cos_similarities = util.cos_sim(query_embedding, embeddings)\n",
    "  \n",
    "    # Sort the results by cosine similarity in descending order\n",
    "    sorted_indices = cos_similarities.argsort(descending=True)\n",
    "  \n",
    "    # Return the top-k most similar texts and their corresponding indices\n",
    "    top_k_indices = sorted_indices[0][:top_k]\n",
    "    return [(texts[i], ids[i]) for i in top_k_indices]\n"
   ]
  },
  {
   "cell_type": "code",
   "execution_count": 16,
   "metadata": {},
   "outputs": [
    {
     "name": "stdout",
     "output_type": "stream",
     "text": [
      "name: جمعه مباركه  -  id: {'$oid': '64761e0b9fa94c1d12f9bd1e'}\n",
      "name: البيع ببغاء زنجباري افريقي ( ذكر +انثي )للاستفسار 01118589942 -  id: {'$oid': '647618039fa94c1d12f9ba40'}\n",
      "name: صباح الخير  -  id: {'$oid': '647618039fa94c1d12f9ba2d'}\n",
      "name: باندا -  id: {'$oid': '647620a89fa94c1d12f9be1a'}\n",
      "name: مظلة عربيات  -  id: {'$oid': '647741a0079df174e8aa14a5'}\n",
      "name: Omniguard سبراى ضد الحشرات. الأمن على اليفك. -  id: {'$oid': '64764b669fa94c1d12f9c8c4'}\n",
      "name: نتمنى لكم جميعاً سنة جديدة سعيدة!  -  id: {'$oid': '647618039fa94c1d12f9ba0d'}\n",
      "name: احدث اشكال منظم الطعام و الشراب  -  id: {'$oid': '647618039fa94c1d12f9ba20'}\n",
      "name:   يابلاش ب ٧ بحق فلاش    -  id: {'$oid': '64740005a31ae693dc2de66c'}\n",
      "name: গাছে কাঁঠাল গোপে তেল। -  id: {'$oid': '64765c299fa94c1d12f9ccd2'}\n",
      "name: سي دهب بالدلاية اللى عملتها حبيبي  -  id: {'$oid': '647620a89fa94c1d12f9be1b'}\n",
      "name: রসমালাই।।। -  id: {'$oid': '64765c299fa94c1d12f9ccba'}\n",
      "name: فيتا داى وكيكى درى فود -  id: {'$oid': '647618b29fa94c1d12f9baad'}\n",
      "name: شامبو للقطط والكلاب ضد الحشرات -  id: {'$oid': '647618b29fa94c1d12f9bab0'}\n",
      "name: بيج بان L /xl -  id: {'$oid': '647741a0079df174e8aa14ae'}\n",
      "name: انتظرو الجديد  -  id: {'$oid': '647741a0079df174e8aa14b7'}\n",
      "name: كرسي s الشيك جدا -  id: {'$oid': '647741a0079df174e8aa1499'}\n",
      "name: ভাই পাঠাইছে।ধন্যবাদ ভাই। rahim. -  id: {'$oid': '64765c299fa94c1d12f9ccbf'}\n",
      "name: يتم بفضل الله تصنيع شرنك سليف اوريجنال ذهبي  -  id: {'$oid': '64775015079df174e8aa1809'}\n",
      "name: হাত বদল হবে। -  id: {'$oid': '64765c299fa94c1d12f9ccc4'}\n",
      "name: الف مبروك ياقلبي  -  id: {'$oid': '64785b4d079df174e8aa2e3e'}\n",
      "name: للبيع جراوى جريفون -  id: {'$oid': '647618b29fa94c1d12f9baba'}\n",
      "name: نظرآ للطابات الوافدة إلينا من سكان مدينة الشيخ ذايد و٦ أكتوبر...مطلوب موزع معتمد لمنتجنا لخدمة عملائنا.للاستفسار واتساب01104917831 -  id: {'$oid': '647621c39fa94c1d12f9be7c'}\n",
      "name: طقم استديو  جودة عاليا -  id: {'$oid': '647741a0079df174e8aa14ad'}\n",
      "name: पुस्तक -  बिंब-प्रतिबिंब लेखक -  चंद्रकांत खोत प्रकार - माहितीपर प्रकाशन  - डिम्पले प्रकाशन किंमत - ७००रु.follow @granthpremi for more#Granthpremi #Marathi #MarathiBooks #chandrakantkhot   #Bimbpratibimb #ग्रंथप्रेमी  #मराठी  #मराठीपुस्तके #चंद्रकांतखोत #बिंब-प्रतिबिंब0:00 / 1:00 -  id: {'$oid': '647558da9fa94c1d12f997ea'}\n",
      "name: مايُزرَع داخِل النَفسِ          ينبتُ فِى مَلامحِنا..  -  id: {'$oid': '6475a8369fa94c1d12f9ac14'}\n",
      "name: كل عام وانتم بخير  -  id: {'$oid': '645b8af594a0b0947d4eb1a9'}\n",
      "name: طقم استديو  -  id: {'$oid': '647741a0079df174e8aa14a9'}\n",
      "name: ‎لبيتك Bh‎ updated their website address. -  id: {'$oid': '645b88c594a0b0947d4eb11c'}\n",
      "name: خد اليفك معاك يري الدنيا -  id: {'$oid': '64764b669fa94c1d12f9c8cb'}\n",
      "name: دلاية ناشو هانم -  id: {'$oid': '647620a89fa94c1d12f9be18'}\n",
      "name: حتى يوم الخميس فقط ب ٢١ دينار  -  id: {'$oid': '64740005a31ae693dc2de66a'}\n",
      "name: متوفر كل الاطعمه من كانز Morando الايطالى. المحبب لدى اليفك. -  id: {'$oid': '64764b669fa94c1d12f9c8c6'}\n",
      "name: راي عملائنا -  id: {'$oid': '6475556c9fa94c1d12f99743'}\n",
      "name: বাবু গুলা।মাশাল্লাহ।0:00 / 0:37 -  id: {'$oid': '64765c299fa94c1d12f9cccd'}\n",
      "name: الاقوى ع الديدان -  id: {'$oid': '647618039fa94c1d12f9ba46'}\n",
      "name: ‎لبيتك Bh‎ is now on WhatsApp.WhatsApp -  id: {'$oid': '645b88c594a0b0947d4eb11b'}\n",
      "name: افهم كلبك و اتعامل معاه  -  id: {'$oid': '647618039fa94c1d12f9ba21'}\n",
      "name: من اقرب الديكورات لقلبي  -  id: {'$oid': '64785b4d079df174e8aa2e42'}\n",
      "name: فيبر جلاس outdoor +11 -  id: {'$oid': '6477fb5f079df174e8aa2329'}\n",
      "name: Alhamdulilah...আর কিছু দিন। -  id: {'$oid': '64765c299fa94c1d12f9ccbc'}\n",
      "name: بوكس حديد ٣ مقاسات -  id: {'$oid': '647618b29fa94c1d12f9bab9'}\n",
      "name: كرسي فراري  -  id: {'$oid': '647741a0079df174e8aa1498'}\n",
      "name: منتجات شركه كوفا متاحه. الراعى الرسمى للجودة+10 -  id: {'$oid': '64764b669fa94c1d12f9c8d1'}\n",
      "name: اقوى عرض0:00 / 0:32 -  id: {'$oid': '6473f394a31ae693dc2ddf77'}\n",
      "name: كل سنه وانتوا طيبينكل سنه وانتوا طيبين -  id: {'$oid': '647741a0079df174e8aa14b2'}\n",
      "name: لعبة مسدس الفقاعاتيعمل بالبطاريات .سهل الاستخدام ..6 حبات ب 5 دنانير خ… See more0:00 / 0:07 -  id: {'$oid': '6477445e079df174e8aa156f'}\n",
      "name: নব দম্পতির জন্য দোয়া চাই। -  id: {'$oid': '64765c299fa94c1d12f9ccca'}\n",
      "name: সুখী পরিবার -  id: {'$oid': '64765c299fa94c1d12f9cca7'}\n",
      "name: بث مباشر لسحب جوائز المسابقة0:00 / 15:17 -  id: 1239575069930568\n",
      "name: 4 T B H D D W D    يا بلاش ب ٦٩ دينار -  id: {'$oid': '64740005a31ae693dc2de6a5'}\n",
      "name: كل عام و انتم بخير ، عيد سعيد -  id: {'$oid': '64764b669fa94c1d12f9c8e3'}\n",
      "name: اطلب الان  01023160264  -  id: {'$oid': '647654389fa94c1d12f9cb6b'}\n",
      "name: اطلب الان  01023160264 -  id: {'$oid': '647654389fa94c1d12f9cb6c'}\n",
      "name: اطلب الان 01023160264  -  id: {'$oid': '647654389fa94c1d12f9cb6d'}\n",
      "name: عرض مميز  للطلب 700805130:00 / 1:09 -  id: {'$oid': '647593d09fa94c1d12f9aa17'}\n",
      "name: اللهم صلي وبارك على سيدنا محمد -  id: {'$oid': '64761e0b9fa94c1d12f9bd1b'}\n",
      "name: وفي نهاية العام ..\"‏لـ أمي: ما دمتي أنتِ باقية فليذهب كُل شيء.\" ⁦⁩ -  id: {'$oid': '6475a8369fa94c1d12f9ac31'}\n",
      "name: اقوى عرض0:01 / 0:32 -  id: {'$oid': '64758ce49fa94c1d12f9a71e'}\n",
      "name: كرسي بار مستورد  -  id: {'$oid': '647741a0079df174e8aa14ac'}\n",
      "name: সুখবর আসছে ইনশাল্লাহ। -  id: {'$oid': '64765c299fa94c1d12f9ccc9'}\n",
      "name: قبة ( ياقة) بولستر من M&R FASHİON السسسعر : 0.35 $ فقط اقل كمية للطلب 2000 حبة تركيا اسطنبول مارتر شارع الفاتحواتساب +905368887511 -  id: {'$oid': '64780c1d079df174e8aa2592'}\n",
      "name: #العرض_مستمر_بنصف_القيمةخف صبايا زحف ضبان طبي متحرك نعل اجنبي السعر بس ...... -  id: {'$oid': '6473c949a31ae693dc2dda15'}\n",
      "name: เก็บมาฝาก#คำทำนาย 19 พ.ค. - 19 มิ.ย. ปี66 -  id: {'$oid': '6475785e9fa94c1d12f9a1e4'}\n",
      "name: ليش مضفر للكلاب القوية  -  id: {'$oid': '647618039fa94c1d12f9ba43'}\n",
      "name: বাড়ি আসার অপেক্ষায়। -  id: {'$oid': '64765c299fa94c1d12f9ccce'}\n",
      "name: طقم الطعاام الهيدروليك  -  id: {'$oid': '647741a0079df174e8aa14ab'}\n",
      "name: قماش جاكار تصنيع على حسب الطلب السعر 9 USD -  id: {'$oid': '6475554f9fa94c1d12f99709'}\n",
      "name: دكر ونتايه شهرين -  id: {'$oid': '647618b29fa94c1d12f9bab7'}\n",
      "name: ميرا اكل قطط دراى فود -  id: {'$oid': '647618b29fa94c1d12f9baab'}\n",
      "name: قبة (ياقة) بولستر  من  M&R FASBİI  السسعر 0.35$اقل كمية للشحن 500 حبة تركيا مارتر شارع الفاتح واتساب +905368887511 -  id: {'$oid': '64780c1d079df174e8aa2591'}\n",
      "name: \"إصابة خطرة\"التفاصيل في الرابط: https://royanews.tv/news/301022 -  id: {'$oid': '647662589fa94c1d12f9ce77'}\n",
      "name: شاب مصري يلقب نفسه بـ \" باتمان الغلابة\" وزع ٧٠ ألف سلة غذائية للمحتاجين دون الكشف عن هويته  -  id: {'$oid': '6475a8369fa94c1d12f9ac24'}\n",
      "name: تم تغيرالمواعيد طبقاً لمواعيد رمضان  -  id: {'$oid': '64764b669fa94c1d12f9c8e5'}\n",
      "name: احلى طوق لاحلى قطه -  id: {'$oid': '647618039fa94c1d12f9ba3f'}\n",
      "name: الطريقة الصحيحة للبس مشد البطن والاجناب  -  id: {'$oid': '64774ea3079df174e8aa17c2'}\n",
      "name: रेख़्ता की किताबें -राजकमल के किताब उत्सव में उपलब्ध!कविता, उपन्यास, इतिहास, उर्दू लर्निंग, सिनेमा और बहुत कुछ- पाईए हिंदी और उर्दू किताबों का ख़ज़ाना।19-23 मार्चशाम 5 से 7 बजे तकनेहरू सेंटर, वर्ली, मुंबई#kitabutsav #nehrucenter #mumbai #rekhtabooks #books #19march2023 #23march2023 -  id: {'$oid': '6475204c39f983f68a30d457'}\n",
      "name: Adorn your space with timeless treasures that speak volumes about your unique style.زين مساحتك بكنوز زمنية تعكس ذوقك الفريدAvailable Now On : Spshl.com#homedecor #homedesign #interiordesign #decor #Spshl -  id: {'$oid': '647632479fa94c1d12f9c33d'}\n",
      "name: #صندل_شبابي         #كفالة_سنتين40_41_42_43_44_45_46 بلحظة وعندك التفاصيل.... -  id: {'$oid': '6473c949a31ae693dc2dda23'}\n",
      "name: حافظي على نعومة بشرتك مع زيت الأرجان الطبيعي ....#بيوتي_ستور#منتجات_طبيعية#عطور -  id: {'$oid': '6477d06e079df174e8aa1a93'}\n",
      "name: تعرف إلى \"القرِى\" وليمة العرس عند الأردنيينالتفاصيل في الفيديو والرابط: https://royanews.tv/news/3010440:00 / 3:04 -  id: {'$oid': '647662589fa94c1d12f9ce6d'}\n",
      "name: الملكة رانيا: \"أحلى عادات وأطيب أهل\" التفاصيل في الفيديو والرابط: https://royanews.tv/news/301039#رؤيا_الإخباري #الأردن #لبنان #نفرح_بالحسين0:00 / 1:24 -  id: {'$oid': '647662589fa94c1d12f9ce6f'}\n",
      "name: رئيس النادي الفيصلي نضال الحديد يتحدث لـ\"رؤيا\" عن تفاصيل ما حدث في بطولة القدس والكرامةhttps://royanews.tv/news/3010400:00 / 4:47 -  id: 970168547317115\n",
      "name: पढ़िए \"जो डूबा सो पार\" जिसमें अमीर ख़ुसरौ के काव्य-संसार को देवनागरी लिपि में प्रस्तुत किया गया है।किताब ख़रीदने के लिए बायो में दिए लिंक पर क्लिक कीजिए|#joobasopaar #amirkhusro #rekhtabooks #books #onlineshopping #reader #literature #hindibook #poetry #rekhtafoundation -  id: {'$oid': '6475204c39f983f68a30d452'}\n",
      "name: \"كيف المي عندكم؟\" التفاصيل في الرابط: https://royanews.tv/news/301018#رؤيا_الإخباري -  id: {'$oid': '647662589fa94c1d12f9ce79'}\n",
      "name: فرسكس  وفليكسي -  id: {'$oid': '647618b29fa94c1d12f9baae'}\n",
      "name: ! غرْة تحت اݪـڨصف !! غرْة تحت اݪـڨصف ! -  id: {'$oid': '6475a8369fa94c1d12f9ac15'}\n",
      "name: مشط تحميم مع خزان لسهوله وضع الشامبو -  id: {'$oid': '647618039fa94c1d12f9ba3d'}\n",
      "name: রানিং জোড়া। ১ম ডিম দয়েছে। ৫/৬ টা ডিম দেয়। ১৫০০ -  id: {'$oid': '64765c299fa94c1d12f9cc9e'}\n",
      "name: انبوكسنك سريع0:00 / 0:23 -  id: {'$oid': '64773fd6079df174e8aa1434'}\n",
      "name: احدث دلاية الجميلةpennyhttps://www.instagram.com/p/CP1a45ehybO/... -  id: {'$oid': '647620a89fa94c1d12f9be20'}\n",
      "name: طقم خارجي مودرن الجديد ستورزشارع الجامعة الاردنية0:00 / 0:51 -  id: {'$oid': '6473f7eea31ae693dc2de480'}\n",
      "name: ว่าง สีขาว 3 ตัว -  id: {'$oid': '6475785e9fa94c1d12f9a1dc'}\n",
      "name: ‎لبيتك Bh‎ updated their phone number.Call now -  id: {'$oid': '645b88c594a0b0947d4eb12f'}\n",
      "name: কিছু ডিম সহ পাখি বিক্রি হবে। -  id: {'$oid': '64765c299fa94c1d12f9cca3'}\n",
      "name: متاح الان -  id: {'$oid': '64770284079df174e8aa1010'}\n",
      "name: #رجالي_بسعر_ 24500 فقط ل 12 ساعة كمية محدودة -  id: {'$oid': '6473c949a31ae693dc2dda2c'}\n",
      "name: كرسي الفراشة المستورد -  id: {'$oid': '647741a0079df174e8aa14a0'}\n",
      "name: كل عام ووطننا الأردن بألف خير   -  id: {'$oid': '6471e2e5a31ae693dc2dd2b6'}\n",
      "name: متوفر عدد محدود جدآ من باوتشات رويال كانين بالسعر الرسمى -  id: {'$oid': '647621c39fa94c1d12f9be74'}\n"
     ]
    }
   ],
   "source": [
    "query = input('Enter your query: ')\n",
    "results = semantic_search(query, name_embeddings, names, ids, top_k=100)\n",
    "for name, idx in results:\n",
    "    print(f'name: {name} -  id: {idx}')\n"
   ]
  },
  {
   "cell_type": "code",
   "execution_count": 15,
   "metadata": {},
   "outputs": [],
   "source": [
    "# Save the embeddings\n",
    "torch.save(name_embeddings, 'name_embeddings.pt')\n"
   ]
  },
  {
   "cell_type": "code",
   "execution_count": null,
   "metadata": {},
   "outputs": [],
   "source": []
  }
 ],
 "metadata": {
  "kernelspec": {
   "display_name": "venv",
   "language": "python",
   "name": "python3"
  },
  "language_info": {
   "codemirror_mode": {
    "name": "ipython",
    "version": 3
   },
   "file_extension": ".py",
   "mimetype": "text/x-python",
   "name": "python",
   "nbconvert_exporter": "python",
   "pygments_lexer": "ipython3",
   "version": "3.10.6"
  },
  "orig_nbformat": 4
 },
 "nbformat": 4,
 "nbformat_minor": 2
}

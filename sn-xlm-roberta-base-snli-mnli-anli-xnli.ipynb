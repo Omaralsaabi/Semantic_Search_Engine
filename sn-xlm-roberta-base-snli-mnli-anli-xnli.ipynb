{
 "cells": [
  {
   "cell_type": "code",
   "execution_count": 1,
   "metadata": {},
   "outputs": [
    {
     "name": "stderr",
     "output_type": "stream",
     "text": [
      "/home/omar/Desktop/Logatta/SearchEngine/venv/lib/python3.10/site-packages/tqdm/auto.py:21: TqdmWarning: IProgress not found. Please update jupyter and ipywidgets. See https://ipywidgets.readthedocs.io/en/stable/user_install.html\n",
      "  from .autonotebook import tqdm as notebook_tqdm\n"
     ]
    }
   ],
   "source": [
    "from sentence_transformers import SentenceTransformer, util\n",
    "import torch\n",
    "import numpy as np\n",
    "import pandas as pd\n",
    "import os\n",
    "import pickle\n",
    "import time\n",
    "import re"
   ]
  },
  {
   "cell_type": "code",
   "execution_count": 2,
   "metadata": {},
   "outputs": [],
   "source": [
    "model = SentenceTransformer('symanto/sn-xlm-roberta-base-snli-mnli-anli-xnli')"
   ]
  },
  {
   "cell_type": "code",
   "execution_count": 3,
   "metadata": {},
   "outputs": [],
   "source": [
    "# import data\n",
    "df = pd.read_csv('myDatabase.facebook_posts.csv')"
   ]
  },
  {
   "cell_type": "code",
   "execution_count": 4,
   "metadata": {},
   "outputs": [
    {
     "data": {
      "text/plain": [
       "_id              0\n",
       "Post_Content    22\n",
       "dtype: int64"
      ]
     },
     "execution_count": 4,
     "metadata": {},
     "output_type": "execute_result"
    }
   ],
   "source": [
    "df.isnull().sum()\n"
   ]
  },
  {
   "cell_type": "code",
   "execution_count": 5,
   "metadata": {},
   "outputs": [],
   "source": [
    "# drop rows with null values\n",
    "df = df.dropna()"
   ]
  },
  {
   "cell_type": "code",
   "execution_count": 6,
   "metadata": {},
   "outputs": [
    {
     "data": {
      "text/plain": [
       "(21134, 2)"
      ]
     },
     "execution_count": 6,
     "metadata": {},
     "output_type": "execute_result"
    }
   ],
   "source": [
    "df.shape"
   ]
  },
  {
   "cell_type": "code",
   "execution_count": 7,
   "metadata": {},
   "outputs": [],
   "source": [
    "ids = df['_id'].tolist()\n",
    "names = df['Post_Content'].tolist()"
   ]
  },
  {
   "cell_type": "code",
   "execution_count": 8,
   "metadata": {},
   "outputs": [],
   "source": [
    "# Embed the dataset \n",
    "# name_embeddings = model.encode(names, convert_to_tensor=True)\n",
    "name_embeddings = torch.load('name_embeddings_facebook.pt')"
   ]
  },
  {
   "cell_type": "code",
   "execution_count": 9,
   "metadata": {},
   "outputs": [
    {
     "data": {
      "text/plain": [
       "torch.Size([21134, 768])"
      ]
     },
     "execution_count": 9,
     "metadata": {},
     "output_type": "execute_result"
    }
   ],
   "source": [
    "name_embeddings.shape"
   ]
  },
  {
   "cell_type": "code",
   "execution_count": 10,
   "metadata": {},
   "outputs": [],
   "source": [
    "def semantic_search(query, embeddings, texts, ids, top_k=100):\n",
    "    # Encode the query\n",
    "    query_embedding = model.encode(query, convert_to_tensor=True)\n",
    "  \n",
    "    # Compute cosine similarity between the query and texts\n",
    "    cos_similarities = util.cos_sim(query_embedding, embeddings)\n",
    "  \n",
    "    # Sort the results by cosine similarity in descending order\n",
    "    sorted_indices = cos_similarities.argsort(descending=True)\n",
    "  \n",
    "    # Return the top-k most similar texts and their corresponding indices\n",
    "    top_k_indices = sorted_indices[0][:top_k]\n",
    "    return [(texts[i], ids[i]) for i in top_k_indices]"
   ]
  },
  {
   "cell_type": "code",
   "execution_count": 12,
   "metadata": {},
   "outputs": [
    {
     "name": "stdout",
     "output_type": "stream",
     "text": [
      "name: صفحتنا ع الانستا طارتالي مراسلنا هناك ع حجز يراسلنا هنا ع بيج الفيسبوك حته نثبته والحاصر يعلم الغايب -  id: {'$oid': '64773fd6079df174e8aa1430'}\n",
      "name: Hello everyone! How are you all? If you haven't gotten a chance, check out our Instagram! NEW and IMPROVED! https://www.instagram.com/petgearinc/ -  id: {'$oid': '64765cc29fa94c1d12f9ccfb'}\n",
      "name: .                              مسابقة Qiwi Store                            منتجاتنا غير                       ومسابقاتنا غيررررر الشرووط ولا اسهل من هيك :●ا follow لصفحتنا على Facebook ●ا follow لصفحتنا على Instagram ● لايك وتعليق (ومنشن لخمس اشخاص) على البوست هاد وهيك بتكون دخلت السحب  السحب رح يكون من التعليقات  على بث مباشر على Facebook يوم الاحد 16/1/2023 الساعة 8 مساءً السحب الاول ساعة X8 ultra السحب الثاني ساعة X8 ultra  السحب الثالث aripods pro copy  السحب الرابع بورد اكرليك Qiwi store خيارك الافضل -  id: {'$oid': '6473f607a31ae693dc2de1c9'}\n",
      "name: https://www.facebook.com/1000.../videos/1591429764687639/... -  id: {'$oid': '64761b549fa94c1d12f9bc3f'}\n",
      "name: https://www.facebook.com/10006.../videos/128199836941317/... -  id: {'$oid': '64761b549fa94c1d12f9bc27'}\n",
      "name: راسلونا ع الفيسبوك او ع الوتساب / تليكرام07829492263حسابنا ع الانستا تعطل  -  id: {'$oid': '64773fd6079df174e8aa142f'}\n",
      "name: https://www.facebook.com/10006.../videos/939750947260632/... -  id: {'$oid': '64761b549fa94c1d12f9bc32'}\n",
      "name: BuBu Gown Selling Fast#3,500 OnlyLocation #benincity & #abuja Chat us on Whatsapp https://www.whatsapp.com/business/0:00 / 0:29 -  id: {'$oid': '64761f1c9fa94c1d12f9bd5b'}\n",
      "name: Purina Beneful IncrediBites.Check the Youtube Video- https://youtu.be/Ey9OmpV0oOo -  id: {'$oid': '647650009fa94c1d12f9ca81'}\n",
      "name: Petz’Empire/SkinCareProduct/serviceWhatsApp -  id: {'$oid': '64761f1c9fa94c1d12f9bd6a'}\n",
      "name: PET ONEProduct/serviceWhatsApp -  id: {'$oid': '647656919fa94c1d12f9cbcd'}\n",
      "name: https://www.facebook.com/Kabay.../videos/150169481366667/... -  id: {'$oid': '64761b549fa94c1d12f9bc49'}\n",
      "name: https://www.facebook.com/10006.../videos/182381164772714/... -  id: {'$oid': '64761b549fa94c1d12f9bc3b'}\n",
      "name: Introducing The Pop Art Collection! Available on our Instagram store today and on our website soon! #popart #popartist #popartwork #retro #rétro #retrô #retrò #retroart #rétroart #retroarts #retroartist #retroartwork #covers #phonecases #phonecaseshop #phonecasesale #phonecasestore -  id: {'$oid': '647569a89fa94c1d12f99ece'}\n",
      "name:  Facebook Class Action Settlement! -- DON'T MISS THE DEADLINE! >>> https://bit.ly/3OGeMMo -  id: {'$oid': '64774149079df174e8aa1486'}\n",
      "name: الله يطعنكم انشالاعذرا للي حاولوا يتواصلون ويانا البارحه تم تعليق صفحتنا على الفيسبوكتكدرون تتابعونا على الانستاكرام للاحتياط من خلال اليوزرAmazone_thi_qar -  id: {'$oid': '64773fd6079df174e8aa1431'}\n",
      "name: Still on our fbs ads  training https://chat.whatsapp.com/FhhlPgwApGE6VbfIW7DGSxPetz’Empire/SkinCareProduct/serviceWhatsApp -  id: {'$oid': '64761f1c9fa94c1d12f9bd65'}\n",
      "name: Good night, FB  IG: independent_btch_ -  id: {'$oid': '6473e5ffa31ae693dc2ddd90'}\n",
      "name: مطلوب شخص محترف على اليوتيوب ( يوتيوبر ) لقناة محتوى ديني يراسلنا حفظكم اللهمطلوب شخص محترف على اليوتيوب ( يوتيوبر ) لقناة محتوى ديني يراسلنا حفظكم الله -  id: {'$oid': '64740005a31ae693dc2de67e'}\n",
      "name: Καλό μήνα!!Super Διαγωνισμός Γνωριμίας ένα Αντί έντομο–παρασιτικό spray % Φυτικό & People–Pet FriendlyΤα βήματα είναι τα εξής: •• Ακολουθήστε την σελίδα μας στο Instagram https://www.instagram.com/p/B_pKSfplSWf/...•• Κάντε Like στην σελίδα μας στο Facebook https://www.facebook.com/bonapettreatsdogbakery/•• Προσθήκη της δημοσιεύσης στην ιστορία σας με αναφορά(mention) - tag την σελίδα μας. •• Tag 2 φίλους σας στα σχόλια της δημοσίευσης. •••Το δώρο είναι ένα Αντί έντομο–παρασιτικό spray %.....%.... Φυτικό και People–Pet Friendly διάρκειας  3 μηνών χρήσης.•• Όσες περισσότερες φορές σχολιάσεις τόσο αυξάνεις τις πιθανότητες να κερδίσεις ••Οι 7 νικητές θα ανακοινωθούν στις 11 Μαϊου όπου και θα λήξει ο διαγωνισμός. ••Καλή επιτυχία!!! ••#allnaturalingredients #dogproduct #allnaturaldogproduct #giveaway #tag #mention #humangradeingredients #bugsprayfordays #bug #tick #repellent #αποθητικο #έντομα #σκύλος #προιονταγιασκυλους #φυτικάκαλλυντικά #φυσικάπροιόντα #φυτικάπροιόντα #αιθέριαέλαια #essentialoil #natural #bonapettreatsdogbakery #bonapettreats #petfriendly #pets #διαγωνισμός #giveaways #εντομοαπωθητικόBon—A Pet TreatsSend message -  id: {'$oid': '64765bf09fa94c1d12f9cc7e'}\n",
      "name: Good night, FB  IG: valerie.c_ -  id: {'$oid': '647807da079df174e8aa24cd'}\n",
      "name: http://yt3.piee.pw/4u2gmxyt3.piee.pwVẹt Ăn Những Loại Trái Cây Nào? Cách Làm Trái Cây Hỗn Hợp Cho Vẹt.AboutPressCopyrightContact usCreatorsAdvertiseDevelopersTermsPrivacyPolicy & SafetyHow YouTube worksTest new featuresNFL Sunday Ticket 2023 Googl -  id: {'$oid': '64761a909fa94c1d12f9bbe9'}\n",
      "name: 0:00 / 0:57YOUTUBE.COMYouTubeLearn more -  id: {'$oid': '64766ada9fa94c1d12f9d015'}\n",
      "name: Good night, FB  IG: paigeamazejordankrate -  id: {'$oid': '647807da079df174e8aa24c6'}\n",
      "name: Hai, #SobatNutricell!Dalam rangka World Rabies Day, Nutricell Pet Care mengadakan REELS CHALLENGE dengan Tema “You and Your Companion”Ayo buat video dengan hewan kesayanganmu!Gimana cara ikutannya?1. Follow instagram @nutricell.petcare @fkh.ipbofficial dan like postingan ini2. Buat Reels di Instagram selama minimal 30 detik sekreatif mungkin3. Pada video reels harus menampilkan video hewan kesayanganmu4. Tag Instagram @nutricell.petcare @fkh.ipbofficial5. Menggunakan hastag #SobatNutricell #RabiesDay #NutricellPetCare #NutriGames6. Video yang ditampilkan merupakan karya yang tidak bertentangan dengan peraturan hak cipta7. Semua video yang mengikuti challenge ini akan menjadi hak milik Nutricell pet careGampang banget kan syaratnya?Yuk buruan ikutin reels challenge sekarang juga Bersama #YourCompanionAkan ada 3 #SobatNutricell beruntung yang akan mendapatkan masing-masing hadiah menarik dari Nutricell Pet Care dan FKH IPBCatat tanggalnya ya sobat!Periode lomba :19-30 September 2021Pengumuman: 2 Oktober 2021#SobatNutricell #RabiesDay #NutricellPetCare #NutriGames #reelschallange #lombavideo #lombainstagram #lombareels0:00 / 0:14 -  id: {'$oid': '64773400079df174e8aa11c0'}\n",
      "name: CONTEST ALERT! CONTEST ALERT!!Win your choice of one of these Bulletproof Gift Boxes and a $10.00 Bulletproof Pet Products gift card!  (or any of the gift boxes on our website!) Follow the following instructions to enter!!Click on the YOUTUBE link on our bio which leads to our Youtube channel and subscribe to our channel. Make sure you also follow us on Facebook. (hint you can enter on Instagram too!!Watch the last video and at least 2 more videos (watching to the end) that are 30 seconds or longer, like all 3 videos, comment on all 3 videos.Comment below - “Done” and tag 3 people in the same comment.UP TO 1 person WILL WIN THEIR CHOICE OF GIFT BOXES!ENTER THROUGH 11/29WINNER  WILL BE ANNOUNCED on December 6th and you will receive your gift box in time for Christmas!Bulletproof Pet Products. Indestructibone Chew ToysPet SuppliesSend message -  id: {'$oid': '647656ab9fa94c1d12f9cbfd'}\n",
      "name: https://youtu.be/IdQoIBQrhnsyoutube.comHãy Để Vẹt Tự Biết Tắm Và Tắm Thế Nào Là Đủ???#vẹt #tắm #roberthainguyen -  id: {'$oid': '64761a909fa94c1d12f9bbea'}\n",
      "name: Sumedh Mudgalkar Verified account  · January 14, 2022  · Instagram  · Shared with PublicWhat’s up ron bwoy?  -  id: {'$oid': '6477454d079df174e8aa1607'}\n",
      "name: ¡HAZ TU PEDIDO POR WHATSAPP Y RECIBE EN LA PUERTA DE TU CASA  !MexPetProduct/serviceWhatsApp -  id: {'$oid': '647615489fa94c1d12f9b9a9'}\n",
      "name: 66.media.tumblr.com66.media.tumblr.com -  id: {'$oid': '647620669fa94c1d12f9bdfc'}\n",
      "name: Good night, FB  IG: officialvanyviciousChumphotos2.0 -  id: {'$oid': '6473e5ffa31ae693dc2ddd81'}\n",
      "name: ‎لبيتك Bh‎ is now on WhatsApp.WhatsApp -  id: {'$oid': '645b88c594a0b0947d4eb11b'}\n",
      "name: ЛолаВул.Матейки 21Instagram: @pet_shop_if -  id: {'$oid': '6476195d9fa94c1d12f9bb29'}\n",
      "name: Nhiều video Vẹt thú vị trên kênh youtube YÊU VẸT AND PETS http://yt3.piee.pw/4sdaswThis is good.0:00 / 0:12 -  id: {'$oid': '64761a909fa94c1d12f9bbee'}\n",
      "name: Stunning work by piotrindulski on IG  -  id: {'$oid': '6473e5ffa31ae693dc2ddd7e'}\n",
      "name: https://www.facebook.com/1000.../videos/1313465736264594/...This content isn't available right nowWhen this happens, it's usually because the owner only shared it with a small group of people, changed who can see it or it's been deleted. -  id: {'$oid': '64761b549fa94c1d12f9bc18'}\n",
      "name: Good night, FB  IG: supersick3 -  id: {'$oid': '6473e5ffa31ae693dc2ddd89'}\n",
      "name: متواجدون معكم في جميع مواقع التواصل فيس بوك وانستجرام واتس اب . . .  نرد على طلباتكم دوما -  id: {'$oid': '64740005a31ae693dc2de6a2'}\n",
      "name: In honor of our #1000th Instagram post, we’ve compiled a few of our most liked posts since we launched our account in 2016! Huge thank you to everyone who has supported us throughout the years, we truly appreciate you all Swipe to check out some of our favorite memories - many more to come! #toadfish #instagram #putemback #supportsmallbusiness #support #love #conservation #oceanminded #savetheplanet+3 -  id: {'$oid': '6475599e9fa94c1d12f99844'}\n",
      "name: Nutricell Pet Care is now on WhatsApp.WhatsApp -  id: {'$oid': '64773400079df174e8aa11b9'}\n",
      "name: The necessitiesVia  theproinstagramer -  id: {'$oid': '647566609fa94c1d12f99c67'}\n",
      "name: https://t.me/Amazone_Pet_Store جروب التلجرام الخاص بنا تابع ليصلك كل جديد+8Amazon pet storeصفحه متخصصه في بيع اعلاف الحيوانات الاليفه،وكل ما هو م?WhatsApp -  id: {'$oid': '64760dff9fa94c1d12f9b5cd'}\n",
      "name: احدث دلاية الجميلةpennyhttps://www.instagram.com/p/CP1a45ehybO/... -  id: {'$oid': '647620a89fa94c1d12f9be20'}\n",
      "name: يرجي الاشتراك في جروب التلجرام الخاص ب الصفحه  ليصلكم كل جديد https://t.me/Amazone_Pet_Store+13Amazon pet storeصفحه متخصصه في بيع اعلاف الحيوانات الاليفه،وكل ما هو م?WhatsApp -  id: {'$oid': '64760dff9fa94c1d12f9b5cf'}\n",
      "name: [ Album ]1Kg Arabian Dates@ 294https://ekaro.in/enkr20230314s22426607Buy Max Quantityfor more such deal follow us onTelegram: https://telegram.me/LatestoffersandDealInstagram: https://www.instagram.com/latestoffersanddeal/Amazon Cracked DealsProduct/serviceSend message -  id: {'$oid': '6477476c079df174e8aa171e'}\n",
      "name: Folkstorys updated their info in the about section.WhatsApp -  id: {'$oid': '64764f179fa94c1d12f9c9be'}\n",
      "name: Вул.Матейки 21Instagram: @pet_shop_if -  id: {'$oid': '6476195d9fa94c1d12f9bb25'}\n",
      "name: Spotted! Show us how Astro and your furry friends are getting along on Instagram by posting and tagging @amazonastro for the chance to be featured!To learn more and request an invitation, please visit: https://www.amazon.com/astro -  id: {'$oid': '6477428d079df174e8aa1505'}\n",
      "name: Make the switch today at: https://www.myfreebird.com/?utm_source=facebook... -  id: {'$oid': '64775bfd079df174e8aa189e'}\n",
      "name: My favorite thingVia  followforfollows__ -  id: {'$oid': '647566609fa94c1d12f99c5f'}\n",
      "name: #pomerian #pomeranianlove #pomeranianworld #pomeraniansofinstagram #pomeranianpuppy #pomer #pomeranianPets4meProduct/serviceSend message -  id: {'$oid': '6476197d9fa94c1d12f9bb60'}\n",
      "name: SANVT is now on WhatsApp.WhatsApp -  id: {'$oid': '64780d70079df174e8aa262a'}\n",
      "name: Another tricks that you can do on your iphone  #lysgadgetsandaccessories #LegitSellerSince2019#iphonelover #iphonetricks #iphonetips0:00 / 0:22Lorrie Iting  · April 13  · Shared with PublicAnother tricks that you can do on your iphone  LYS Gadgets and Accessories -  id: {'$oid': '64754eae9fa94c1d12f99453'}\n",
      "name: ONE Way to Grow Fast As a Photographer #photography #photooftheday #photochallenge #photographychallenge #photoshoot #photographyislife #photographerlife #reelsindia #reelsfb #reelsvideos0:00 / 0:30 -  id: {'$oid': '647612809fa94c1d12f9b8f3'}\n",
      "name:  Look amazing in two minutes or less at: https://www.myfreebird.com/?utm_source=facebook... -  id: {'$oid': '64775bfd079df174e8aa18ae'}\n",
      "name: My safe placeVia  instantgraming -  id: {'$oid': '647566609fa94c1d12f99c66'}\n",
      "name: Make A Dog Smile updated their website address.Learn more -  id: {'$oid': '6475219239f983f68a30d51b'}\n",
      "name: VZ Product’sPet SuppliesWhatsApp -  id: {'$oid': '64766ce1079df174e8aa0db2'}\n",
      "name: ÚJ KOLLEKCIÓMa este 19:0-kor vadiúj szuper kollekcio töltés 42-54-es méretekben Facebook csoportunkban. Csatlakozz, ha te is szeretnél ilyen szuper ruhákat https://www.facebook.com/groups/964233967492956/ -  id: {'$oid': '64753f6e9fa94c1d12f99097'}\n",
      "name: Good night, FB  IG: quinnwhooooo -  id: {'$oid': '6473e5ffa31ae693dc2ddd6b'}\n",
      "name: Pets For Adoption Saudi ArabiaProduct/serviceWhatsApp -  id: {'$oid': '64766d40079df174e8aa0dbc'}\n",
      "name: #Repost @siddy4real• • • • • •Yo! @wolfattire. . #wolfattire #india -  id: {'$oid': '647584749fa94c1d12f9a574'}\n",
      "name: https://t.me/Amazone_Pet_Store جروب التلجرام الخاص بنا تابع ليصلك كل جديد+2Amazon pet storeصفحه متخصصه في بيع اعلاف الحيوانات الاليفه،وكل ما هو م?WhatsApp -  id: {'$oid': '64760dff9fa94c1d12f9b5cc'}\n",
      "name: Peter's Sports NutritionProduct/serviceWhatsApp -  id: {'$oid': '64770206079df174e8aa0fc5'}\n",
      "name: Swipe to see the before. Shot on the SANDMARC Motion Variable ND Filter for iPhone.#sandmarc #sandmarcmotionfilter #sandmarcgear #travelgear #photographytips #photographylovers #mobilephotography #photographyskills #iphoneography #iphonephotography #iphoneonlyphoto #nature #natureworld_photography #landscape #motion #motionblur #longexposure #longexposure_shots #waterfall #waterfallphotography -  id: {'$oid': '645b744b94a0b0947d4eb049'}\n",
      "name: زمن أول حـــــــــــوّل مع منصة #موبيلا صناعة التطبيقات .. بدون برمجة .. خبرة .. وبسرعة الصـــــــاروخ -للاشتراك والتجربة المجانية من خلال زيارة موقعنا الإلكتروني:-https://mobella.pro/appMobella - موبيلاSoftware CompanySend message -  id: {'$oid': '6473bf35a31ae693dc2dd91e'}\n",
      "name: \"¡Disfruta de este nuevo modelo de soporte de celular! Uso práctico y efectivoEnvío GRATIS aliperu.com/soportedecelularaliperu.com/soportedecelularGratis, paga en CASA  WhatsApp: 910 307 445\" -  id: {'$oid': '647400daa31ae693dc2de79e'}\n",
      "name: Abanoub Nady Photography#keep_your_Smile  instagram:https://instagram.com/abanoubnady_photographer...Photographer : Abanoub NadyLike & share for page ...contact us : 01229718883 /01211683043 —0:00 / 1:05 -  id: {'$oid': '6474001ea31ae693dc2de6e5'}\n",
      "name: Tag a friend that should see this———#dogsofinstagram #doglife #doglovers #dogstagram #goldenretriever #doggy #puppylove #cutepuppy0:00 / 0:17 -  id: {'$oid': '6475ac2d9fa94c1d12f9ad0e'}\n",
      "name: ‎البيت بيتك للأدوات المنزلية -  Bait Baitk Houseware‎ is now on WhatsApp.WhatsApp -  id: {'$oid': '647593d09fa94c1d12f9aa08'}\n",
      "name: Luggage Outlet Perú  · 6d  · Instagram  · Shared with Public𝗖𝗮𝗹𝘃𝗶𝗻 𝗞𝗹𝗲𝗶𝗻 𝗮𝗿𝗿𝗶𝘃𝗲𝗱 Stock disponible Envíos a todo el Perú Aceptamos todas las tarjetas -  id: {'$oid': '64756f3c9fa94c1d12f9a040'}\n",
      "name: Descoperă câți ghiocei sunt ascunși în postările din luna martie și lasă răspunsul tău în secțiunea de comentarii!​  Pentru a te înscrie în concurs, nu uita să ții cont și de următorii pași: ​Dă like paginii de Facebook și urmărește contul de Instagram;​​Apreciază toate postările de pe Facebook care conțin simbolul cu ghiocel.​Tu câți ghiocei ai numărat? Lasă-ne răspunsul tău în secțiunea de comentarii pentru a te înscrie în concurs! *Extragerea va avea loc în perioada 05.04.2023.Figo DecorBridal ShopShop now -  id: {'$oid': '647561859fa94c1d12f99b71'}\n",
      "name: Our gorgeous biscuit boxes are arriving! Peanut looks like his day has been made! Want to know how to get your paws on one for your dog?? Click > bit.ly/IWoofYouGifthttps://www.instagram.com/p/ComrrZOoVDK/?igshid=YmMyMTA2M2Y=Instagram -  id: {'$oid': '645b70b894a0b0947d4eaf73'}\n",
      "name: https://t.me/Amazone_Pet_Store جروب التلجرام الخاص بنا تابع ليصلك كل جديدAmazon pet storeصفحه متخصصه في بيع اعلاف الحيوانات الاليفه،وكل ما هو م?WhatsApp -  id: {'$oid': '64760dff9fa94c1d12f9b5ce'}\n",
      "name: Pets shop is now on WhatsApp.WhatsApp -  id: {'$oid': '647654389fa94c1d12f9cb70'}\n",
      "name: Top Vine updated their website address. -  id: {'$oid': '647871a8079df174e8aa323b'}\n",
      "name: ¿Tu cocina se ensucia fácilmente?  Este es uno de los mejores productos para cocina  Envío GRATIS aliperu.com/papelaluminioaliperu.com/papelaluminio Gratis, paga en CASA  WhatsApp: 910 307 445 -  id: {'$oid': '647400daa31ae693dc2de7a0'}\n",
      "name: Amazone-online224Send message -  id: {'$oid': '64773c37079df174e8aa1377'}\n",
      "name: Puppy Paws Pets\tPuppy Paws Pets\n",
      "Online store \n",
      "for pet gifts and pet lovers\n",
      "We hope that you and your pets are happy\n",
      "���\n",
      "https://t.me/snoopy_pet_suppliesWhatsApp -  id: {'$oid': '647620a89fa94c1d12f9be16'}\n",
      "name: Almaari Fashion is now on WhatsApp.WhatsApp -  id: {'$oid': '647663de9fa94c1d12f9cee0'}\n",
      "name: Abanoub Nady Photography#keep_your_Smile Andrew & Nana instagram:https://instagram.com/abanoubnady_photographer...Photographer : Abanoub NadyLike & share for page ...contact us : 01229718883 /01211683043 —+23 -  id: {'$oid': '6474001ea31ae693dc2de6e2'}\n",
      "name: Tienes un perrito de talla chica! Corre aparta tu lugar para que vivas el “I woof you”https://facebook.com/events/s/i-woof-you/2892899444107294/?ti=icl -  id: {'$oid': '647626ba9fa94c1d12f9bf95'}\n",
      "name: I love this!Via  followmylife -  id: {'$oid': '647566609fa94c1d12f99c68'}\n",
      "name:  Find the answers to all your questions and more at: https://help.myfreebird.com/?utm_source=facebook... -  id: {'$oid': '64775bfd079df174e8aa18ba'}\n",
      "name: #imagenesparadescargar, #fondosdepantalla, #hermosasimagenes Imágenes para celulares que puedes descargarimagenesdebuenosdiasmiamor.comImágenes para celulares que puedes descargarImágenes para celulares que no te puedes perder de descargar las mejores imágenes animadas que te daremos para que las puedas descargar. -  id: {'$oid': '6475ac959fa94c1d12f9ad92'}\n",
      "name: Gorgeous by filouino on IG -  id: {'$oid': '64755dd59fa94c1d12f99a76'}\n",
      "name: https://www.facebook.com/yahoophil.../posts/27585967642118590:00 / 1:34Yahoo Philippines posted an episode of In The Know Now.  · January 21, 2019  · Shared with PublicLG just created a magical TV that disappears and appears whenever you want  -  id: {'$oid': '64763b149fa94c1d12f9c51b'}\n",
      "name: Cheapest iPhone Paluwagan and Guaranteed  originalOpen po May Batch namin  Downpayment pwede dahan dahanin hanggang May 31. Ano pang hinihintay mo Join na! Message mo lang si LYS Gadgets and AccessoriesPaluwagan motto: \"Patience is the Key\" Kayang Kaya mo yan! Pweding pang vlog kahit anong niche lalo na sa beginner, pwede gamitin mga events cinematic na video or capture na parang professional Guaranteed yan!  Legit check ba kamo: https://www.facebook.com/lysest2019/reviewsTransactions Proofs Mula 2019 hanggang 2023https://www.facebook.com/media/set/?set=a.106282371760332...We offer Paluwagan and Cash Apple products with a great discount. iPhone 7 to iPhone 14 pro maxMacbook SeriesApple Watch SeriesiPad SeriesAirpodsGo Pro Hero 10 Brand New and Sealed Good as new units are available % ORIGINAL APPLE PRODUCTSNO ISSUES/ WITH BOX Davao City Based & We Ship NationwideWe are open for Members sa Paluwagan & Buyers Outside Davao CityShop na! Click Send message LYS Gadgets and Accessories#iphone12promax  #iphoneseries #iphonelover #iphonefans #appleproducts #iphone14series  #LegitSellerSince2019 #lysgadgetsandaccessories #iphonexr #iphone13case0:00 / 0:15 -  id: {'$oid': '64754eae9fa94c1d12f9944a'}\n",
      "name: https://youtu.be/jIJGQmLA_rUyoutube.comLàm Sao Biết Loại Bột Nào Tốt Cho Vẹt Non Ăn?#nuôivẹtnon #roberthainguyen -  id: {'$oid': '64761a909fa94c1d12f9bbec'}\n",
      "name: WooCommerce! https://www.interserver.net/.../top-10-free-woocommerce.../#WooCommerce #InterServer # WebHosting #Plugins #Extensions #Ecommerce #BestWebHosting #CheapWebHosting #HostingAdvice #TopTenPlugins #WordPress #Hubspot -  id: {'$oid': '6473c93ba31ae693dc2dda08'}\n",
      "name: TarotReaderPeter  · May 22 at 8:27 PM  · Instagram  · Shared with PublicBRB romanticizing everything I possibly can —#gemini #geminimemes #astrologymemes #astrology #astrologycommunity #geminiseason #geminifacts #geminiman #geminis #geminination #geminigang #geminimoon #geminiproblems #géminis #geminiwoman #geminilife #witch #witchesofinstagram #witchcommunity #spongebobmeme #astrología #astrologie #astrologymeme #astrologyfacts #astro #geminiszn #geminihoroscopes -  id: {'$oid': '64753d2e9fa94c1d12f99049'}\n",
      "name: NEW VIDEO: We flew to DUBLIN, IRELAND for a TikTok Find Tim Challengeyoutube.comWe flew to DUBLIN, IRELAND for a TikTok Find Tim ChallengeWe flew to Dublin, Ireland to see how many people could 'Find Tim' somewhere in the city when he goes live on TikTok!Welcome to the Hagley West YouTube chann... -  id: {'$oid': '645b824694a0b0947d4eb0c3'}\n",
      "name: Nguồn kênh youtube: YÊU VẸT AND PETS https://youtu.be/iaK-3wamEQM0:00 / 6:03 -  id: {'$oid': '64761a909fa94c1d12f9bbe6'}\n",
      "name: BREAKING NEWS ... We're celebrating Crufts with a \"Secret Seconds Sale\"! As we're not at Crufts with our show stand this year, we thought we'd do something fun on our website for the duration of the show. Our friends here on FB are the first to be invited to the secret sale page - accessed via a magic link. You now have the magic link! Happy shopping!  https://www.charleychau.com/secret-sale -  id: {'$oid': '645b70b894a0b0947d4eaf5f'}\n",
      "name: قناه التلجرامhttps://t.me/Amazone_Pet_Store+2Amazon pet storeصفحه متخصصه في بيع اعلاف الحيوانات الاليفه،وكل ما هو م?WhatsApp -  id: {'$oid': '64760dff9fa94c1d12f9b5d1'}\n",
      "name: متابعه جروب التلجرام الخاص بينا https://t.me/Amazone_Pet_Store+10Amazon pet storeصفحه متخصصه في بيع اعلاف الحيوانات الاليفه،وكل ما هو م?WhatsApp -  id: {'$oid': '64760dff9fa94c1d12f9b5ca'}\n",
      "name: \"Have had many cases in the 2 months of owning my 11 Pro Max, and was looking for something that could use powerful magnets while not sacrificing and adding bulk.... Saw an ad on Facebook for MagBak went to YouTube and saw some reviews. I was sold instantly! So far so good! Would definitely recommend this case as it does have use, it's stylish and slim. MagBak thank you! You've earned a loyal customer.\"-Cesar Orozco #customerreview #customerexperience #customerfeedback -  id: {'$oid': '645b62bd94a0b0947d4eae56'}\n",
      "name: Good night, FB  IG: tatubaby -  id: {'$oid': '64755dd59fa94c1d12f99a73'}\n",
      "name: Have a wonderful weekend, just like Peach the dove, who's serving up today's #SundaySmile!Repost from @peach_the_dove on Instagram#ringneckdove #ringneckdoves #dove #doves #petdove #petbird #petbirds #bird #birds #cutebird #cutebirds #birdlovers #birdlovers #birdlife -  id: {'$oid': '6476443f9fa94c1d12f9c6be'}\n",
      "name: Web activa bbentra y chequea tooodo lo nuevo!-envíos a todo el país-#pollera #polleratableada #polleracuadrille #bucaneras #camperajean #camperajeanmujer #poleras #poleramujer #ropamujer+4 -  id: {'$oid': '6475371f9fa94c1d12f98ebf'}\n"
     ]
    }
   ],
   "source": [
    "query = input('Enter your query: ')\n",
    "results = semantic_search(query, name_embeddings, names, ids, top_k=100)\n",
    "for name, idx in results:\n",
    "    print(f'name: {name} -  id: {idx}')"
   ]
  },
  {
   "cell_type": "code",
   "execution_count": 30,
   "metadata": {},
   "outputs": [],
   "source": [
    "torch.save(name_embeddings, 'name_embeddings_facebook.pt')\n"
   ]
  },
  {
   "cell_type": "code",
   "execution_count": null,
   "metadata": {},
   "outputs": [],
   "source": []
  }
 ],
 "metadata": {
  "kernelspec": {
   "display_name": "venv",
   "language": "python",
   "name": "python3"
  },
  "language_info": {
   "codemirror_mode": {
    "name": "ipython",
    "version": 3
   },
   "file_extension": ".py",
   "mimetype": "text/x-python",
   "name": "python",
   "nbconvert_exporter": "python",
   "pygments_lexer": "ipython3",
   "version": "3.10.6"
  },
  "orig_nbformat": 4
 },
 "nbformat": 4,
 "nbformat_minor": 2
}

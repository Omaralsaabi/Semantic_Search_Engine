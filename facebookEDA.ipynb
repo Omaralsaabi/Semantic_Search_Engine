{
 "cells": [
  {
   "cell_type": "code",
   "execution_count": 2,
   "metadata": {},
   "outputs": [],
   "source": [
    "import pandas as pd\n",
    "import numpy as np\n",
    "import matplotlib.pyplot as plt\n",
    "import os\n",
    "import warnings\n",
    "warnings.filterwarnings('ignore')\n",
    "%matplotlib inline\n"
   ]
  },
  {
   "cell_type": "code",
   "execution_count": 3,
   "metadata": {},
   "outputs": [],
   "source": [
    "df_json = pd.read_json('myDatabase.facebook_posts.json')\n"
   ]
  },
  {
   "cell_type": "code",
   "execution_count": 4,
   "metadata": {},
   "outputs": [
    {
     "data": {
      "text/html": [
       "<div>\n",
       "<style scoped>\n",
       "    .dataframe tbody tr th:only-of-type {\n",
       "        vertical-align: middle;\n",
       "    }\n",
       "\n",
       "    .dataframe tbody tr th {\n",
       "        vertical-align: top;\n",
       "    }\n",
       "\n",
       "    .dataframe thead th {\n",
       "        text-align: right;\n",
       "    }\n",
       "</style>\n",
       "<table border=\"1\" class=\"dataframe\">\n",
       "  <thead>\n",
       "    <tr style=\"text-align: right;\">\n",
       "      <th></th>\n",
       "      <th>_id</th>\n",
       "      <th>Post_Content</th>\n",
       "      <th>page</th>\n",
       "      <th>Date</th>\n",
       "      <th>Comments</th>\n",
       "      <th>type</th>\n",
       "    </tr>\n",
       "  </thead>\n",
       "  <tbody>\n",
       "    <tr>\n",
       "      <th>0</th>\n",
       "      <td>{'$oid': '645b5de694a0b0947d4ead81'}</td>\n",
       "      <td>وسادة الحمل والرضاعة  الحجم الكبير 180*80 ب سع...</td>\n",
       "      <td>ellyshop.uae</td>\n",
       "      <td>May 1 at 1:45 AM</td>\n",
       "      <td>[{'UID': 'https://www.facebook.com/people/Raha...</td>\n",
       "      <td>NaN</td>\n",
       "    </tr>\n",
       "    <tr>\n",
       "      <th>1</th>\n",
       "      <td>{'$oid': '645b5de694a0b0947d4ead82'}</td>\n",
       "      <td>البلف المضيء ل الاربع كوشوكات ب سعر 4.99 دناني...</td>\n",
       "      <td>ellyshop.uae</td>\n",
       "      <td>April 30 at 1:17 AM</td>\n",
       "      <td>[{'UID': 'https://www.facebook.com/dagamseh.mo...</td>\n",
       "      <td>NaN</td>\n",
       "    </tr>\n",
       "    <tr>\n",
       "      <th>2</th>\n",
       "      <td>{'$oid': '645b5de694a0b0947d4ead83'}</td>\n",
       "      <td>الة تسليك المجاري وعلاج انسداد مواسير الصرف ال...</td>\n",
       "      <td>ellyshop.uae</td>\n",
       "      <td>April 9</td>\n",
       "      <td>[{'UID': 'https://www.facebook.com/mahmoud.kha...</td>\n",
       "      <td>NaN</td>\n",
       "    </tr>\n",
       "    <tr>\n",
       "      <th>3</th>\n",
       "      <td>{'$oid': '645b5de694a0b0947d4ead84'}</td>\n",
       "      <td>مرآة تجميل X10 مع لمبة ليد مريحة للاستخدام-مرن...</td>\n",
       "      <td>ellyshop.uae</td>\n",
       "      <td>April 6</td>\n",
       "      <td>[{'UID': 'https://www.facebook.com/people/Sahe...</td>\n",
       "      <td>NaN</td>\n",
       "    </tr>\n",
       "    <tr>\n",
       "      <th>4</th>\n",
       "      <td>{'$oid': '645b5de694a0b0947d4ead85'}</td>\n",
       "      <td>تعبئة فراغات الشعر متوفر لون اسود ولون بنيالعب...</td>\n",
       "      <td>ellyshop.uae</td>\n",
       "      <td>April 4</td>\n",
       "      <td>[{'UID': 'https://www.facebook.com/people/%D8%...</td>\n",
       "      <td>NaN</td>\n",
       "    </tr>\n",
       "  </tbody>\n",
       "</table>\n",
       "</div>"
      ],
      "text/plain": [
       "                                    _id  \\\n",
       "0  {'$oid': '645b5de694a0b0947d4ead81'}   \n",
       "1  {'$oid': '645b5de694a0b0947d4ead82'}   \n",
       "2  {'$oid': '645b5de694a0b0947d4ead83'}   \n",
       "3  {'$oid': '645b5de694a0b0947d4ead84'}   \n",
       "4  {'$oid': '645b5de694a0b0947d4ead85'}   \n",
       "\n",
       "                                        Post_Content          page  \\\n",
       "0  وسادة الحمل والرضاعة  الحجم الكبير 180*80 ب سع...  ellyshop.uae   \n",
       "1  البلف المضيء ل الاربع كوشوكات ب سعر 4.99 دناني...  ellyshop.uae   \n",
       "2  الة تسليك المجاري وعلاج انسداد مواسير الصرف ال...  ellyshop.uae   \n",
       "3  مرآة تجميل X10 مع لمبة ليد مريحة للاستخدام-مرن...  ellyshop.uae   \n",
       "4  تعبئة فراغات الشعر متوفر لون اسود ولون بنيالعب...  ellyshop.uae   \n",
       "\n",
       "                  Date                                           Comments type  \n",
       "0     May 1 at 1:45 AM  [{'UID': 'https://www.facebook.com/people/Raha...  NaN  \n",
       "1  April 30 at 1:17 AM  [{'UID': 'https://www.facebook.com/dagamseh.mo...  NaN  \n",
       "2              April 9  [{'UID': 'https://www.facebook.com/mahmoud.kha...  NaN  \n",
       "3              April 6  [{'UID': 'https://www.facebook.com/people/Sahe...  NaN  \n",
       "4              April 4  [{'UID': 'https://www.facebook.com/people/%D8%...  NaN  "
      ]
     },
     "execution_count": 4,
     "metadata": {},
     "output_type": "execute_result"
    }
   ],
   "source": [
    "# dispaly all columns from json \n",
    "pd.set_option('display.max_columns', None)\n",
    "df_json.head()"
   ]
  },
  {
   "cell_type": "code",
   "execution_count": 5,
   "metadata": {},
   "outputs": [
    {
     "data": {
      "text/plain": [
       "(43829, 6)"
      ]
     },
     "execution_count": 5,
     "metadata": {},
     "output_type": "execute_result"
    }
   ],
   "source": [
    "df_json.shape"
   ]
  },
  {
   "cell_type": "code",
   "execution_count": 6,
   "metadata": {},
   "outputs": [],
   "source": [
    "# convert json to dataframe\n",
    "df = pd.DataFrame(df_json)"
   ]
  },
  {
   "cell_type": "code",
   "execution_count": 7,
   "metadata": {},
   "outputs": [],
   "source": [
    "# new datarame only with columns we need: _id and Post_Content \n",
    "df = df[['_id', 'Post_Content']]"
   ]
  },
  {
   "cell_type": "code",
   "execution_count": 8,
   "metadata": {},
   "outputs": [
    {
     "data": {
      "text/html": [
       "<div>\n",
       "<style scoped>\n",
       "    .dataframe tbody tr th:only-of-type {\n",
       "        vertical-align: middle;\n",
       "    }\n",
       "\n",
       "    .dataframe tbody tr th {\n",
       "        vertical-align: top;\n",
       "    }\n",
       "\n",
       "    .dataframe thead th {\n",
       "        text-align: right;\n",
       "    }\n",
       "</style>\n",
       "<table border=\"1\" class=\"dataframe\">\n",
       "  <thead>\n",
       "    <tr style=\"text-align: right;\">\n",
       "      <th></th>\n",
       "      <th>_id</th>\n",
       "      <th>Post_Content</th>\n",
       "    </tr>\n",
       "  </thead>\n",
       "  <tbody>\n",
       "    <tr>\n",
       "      <th>0</th>\n",
       "      <td>{'$oid': '645b5de694a0b0947d4ead81'}</td>\n",
       "      <td>وسادة الحمل والرضاعة  الحجم الكبير 180*80 ب سع...</td>\n",
       "    </tr>\n",
       "    <tr>\n",
       "      <th>1</th>\n",
       "      <td>{'$oid': '645b5de694a0b0947d4ead82'}</td>\n",
       "      <td>البلف المضيء ل الاربع كوشوكات ب سعر 4.99 دناني...</td>\n",
       "    </tr>\n",
       "    <tr>\n",
       "      <th>2</th>\n",
       "      <td>{'$oid': '645b5de694a0b0947d4ead83'}</td>\n",
       "      <td>الة تسليك المجاري وعلاج انسداد مواسير الصرف ال...</td>\n",
       "    </tr>\n",
       "    <tr>\n",
       "      <th>3</th>\n",
       "      <td>{'$oid': '645b5de694a0b0947d4ead84'}</td>\n",
       "      <td>مرآة تجميل X10 مع لمبة ليد مريحة للاستخدام-مرن...</td>\n",
       "    </tr>\n",
       "    <tr>\n",
       "      <th>4</th>\n",
       "      <td>{'$oid': '645b5de694a0b0947d4ead85'}</td>\n",
       "      <td>تعبئة فراغات الشعر متوفر لون اسود ولون بنيالعب...</td>\n",
       "    </tr>\n",
       "  </tbody>\n",
       "</table>\n",
       "</div>"
      ],
      "text/plain": [
       "                                    _id  \\\n",
       "0  {'$oid': '645b5de694a0b0947d4ead81'}   \n",
       "1  {'$oid': '645b5de694a0b0947d4ead82'}   \n",
       "2  {'$oid': '645b5de694a0b0947d4ead83'}   \n",
       "3  {'$oid': '645b5de694a0b0947d4ead84'}   \n",
       "4  {'$oid': '645b5de694a0b0947d4ead85'}   \n",
       "\n",
       "                                        Post_Content  \n",
       "0  وسادة الحمل والرضاعة  الحجم الكبير 180*80 ب سع...  \n",
       "1  البلف المضيء ل الاربع كوشوكات ب سعر 4.99 دناني...  \n",
       "2  الة تسليك المجاري وعلاج انسداد مواسير الصرف ال...  \n",
       "3  مرآة تجميل X10 مع لمبة ليد مريحة للاستخدام-مرن...  \n",
       "4  تعبئة فراغات الشعر متوفر لون اسود ولون بنيالعب...  "
      ]
     },
     "execution_count": 8,
     "metadata": {},
     "output_type": "execute_result"
    }
   ],
   "source": [
    "df.head()"
   ]
  },
  {
   "cell_type": "code",
   "execution_count": 9,
   "metadata": {},
   "outputs": [
    {
     "data": {
      "text/plain": [
       "_id             0\n",
       "Post_Content    0\n",
       "dtype: int64"
      ]
     },
     "execution_count": 9,
     "metadata": {},
     "output_type": "execute_result"
    }
   ],
   "source": [
    "df.isnull().sum()"
   ]
  },
  {
   "cell_type": "code",
   "execution_count": 12,
   "metadata": {},
   "outputs": [
    {
     "data": {
      "text/plain": [
       "22694"
      ]
     },
     "execution_count": 12,
     "metadata": {},
     "output_type": "execute_result"
    }
   ],
   "source": [
    "# check for duplicates\n",
    "df.duplicated(subset='Post_Content').sum()"
   ]
  },
  {
   "cell_type": "code",
   "execution_count": 14,
   "metadata": {},
   "outputs": [],
   "source": [
    "df = df.drop_duplicates(subset='Post_Content', keep='first')"
   ]
  },
  {
   "cell_type": "code",
   "execution_count": 15,
   "metadata": {},
   "outputs": [
    {
     "data": {
      "text/plain": [
       "(21135, 2)"
      ]
     },
     "execution_count": 15,
     "metadata": {},
     "output_type": "execute_result"
    }
   ],
   "source": [
    "df.shape"
   ]
  },
  {
   "cell_type": "code",
   "execution_count": 10,
   "metadata": {},
   "outputs": [],
   "source": [
    "ids = df['_id'].tolist()\n",
    "names = df['Post_Content'].tolist()"
   ]
  },
  {
   "cell_type": "code",
   "execution_count": 14,
   "metadata": {},
   "outputs": [],
   "source": [
    "# save dataframe to csv\n",
    "df.to_csv('myDatabase.facebook_posts.csv', index=False)"
   ]
  },
  {
   "cell_type": "code",
   "execution_count": null,
   "metadata": {},
   "outputs": [],
   "source": []
  }
 ],
 "metadata": {
  "kernelspec": {
   "display_name": "venv",
   "language": "python",
   "name": "python3"
  },
  "language_info": {
   "codemirror_mode": {
    "name": "ipython",
    "version": 3
   },
   "file_extension": ".py",
   "mimetype": "text/x-python",
   "name": "python",
   "nbconvert_exporter": "python",
   "pygments_lexer": "ipython3",
   "version": "3.10.6"
  },
  "orig_nbformat": 4
 },
 "nbformat": 4,
 "nbformat_minor": 2
}

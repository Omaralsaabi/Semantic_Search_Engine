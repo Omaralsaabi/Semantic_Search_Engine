{
 "cells": [
  {
   "cell_type": "code",
   "execution_count": 1,
   "metadata": {},
   "outputs": [
    {
     "name": "stderr",
     "output_type": "stream",
     "text": [
      "/home/omar/Desktop/Logatta/SearchEngine/venv/lib/python3.10/site-packages/tqdm/auto.py:21: TqdmWarning: IProgress not found. Please update jupyter and ipywidgets. See https://ipywidgets.readthedocs.io/en/stable/user_install.html\n",
      "  from .autonotebook import tqdm as notebook_tqdm\n"
     ]
    }
   ],
   "source": [
    "from sentence_transformers import SentenceTransformer, util\n",
    "import torch\n",
    "import numpy as np\n",
    "import pandas as pd\n",
    "import os\n",
    "import pickle\n",
    "import time\n",
    "import re"
   ]
  },
  {
   "cell_type": "code",
   "execution_count": 2,
   "metadata": {},
   "outputs": [],
   "source": [
    "model = SentenceTransformer('all-MiniLM-L6-v2')\n"
   ]
  },
  {
   "cell_type": "code",
   "execution_count": 3,
   "metadata": {},
   "outputs": [],
   "source": [
    "# import data\n",
    "df = pd.read_csv('myDatabase.items.csv')"
   ]
  },
  {
   "cell_type": "code",
   "execution_count": 4,
   "metadata": {},
   "outputs": [
    {
     "data": {
      "text/plain": [
       "_id        0\n",
       "name    4035\n",
       "dtype: int64"
      ]
     },
     "execution_count": 4,
     "metadata": {},
     "output_type": "execute_result"
    }
   ],
   "source": [
    "df.isnull().sum()\n"
   ]
  },
  {
   "cell_type": "code",
   "execution_count": 5,
   "metadata": {},
   "outputs": [],
   "source": [
    "# drop rows with null values\n",
    "df = df.dropna()"
   ]
  },
  {
   "cell_type": "code",
   "execution_count": 6,
   "metadata": {},
   "outputs": [],
   "source": [
    "ids = df['_id'].tolist()\n",
    "names = df['name'].tolist()"
   ]
  },
  {
   "cell_type": "code",
   "execution_count": 7,
   "metadata": {},
   "outputs": [],
   "source": [
    "for name in names:\n",
    "    name = re.sub(r'[^\\w\\s]', '', name)\n",
    "    name = name.lower()"
   ]
  },
  {
   "cell_type": "code",
   "execution_count": 8,
   "metadata": {},
   "outputs": [],
   "source": [
    "# Embed the dataset \n",
    "name_embeddings = model.encode(names, convert_to_tensor=True)"
   ]
  },
  {
   "cell_type": "code",
   "execution_count": 11,
   "metadata": {},
   "outputs": [
    {
     "data": {
      "text/plain": [
       "torch.Size([61142, 384])"
      ]
     },
     "execution_count": 11,
     "metadata": {},
     "output_type": "execute_result"
    }
   ],
   "source": [
    "name_embeddings.shape"
   ]
  },
  {
   "cell_type": "code",
   "execution_count": 12,
   "metadata": {},
   "outputs": [],
   "source": [
    "def semantic_search(query, embeddings, texts, ids, top_k=100):\n",
    "    # Encode the query\n",
    "    query_embedding = model.encode(query, convert_to_tensor=True)\n",
    "  \n",
    "    # Compute cosine similarity between the query and texts\n",
    "    cos_similarities = util.cos_sim(query_embedding, embeddings)\n",
    "  \n",
    "    # Sort the results by cosine similarity in descending order\n",
    "    sorted_indices = cos_similarities.argsort(descending=True)\n",
    "  \n",
    "    # Return the top-k most similar texts and their corresponding indices\n",
    "    top_k_indices = sorted_indices[0][:top_k]\n",
    "    return [(texts[i], ids[i]) for i in top_k_indices]\n",
    "\n",
    "\n"
   ]
  },
  {
   "cell_type": "code",
   "execution_count": 15,
   "metadata": {},
   "outputs": [
    {
     "name": "stdout",
     "output_type": "stream",
     "text": [
      "name: Cat What Murderous Black Cat With Knife Magnet Stickers Kids Children Home Decor Cute Colorful Holder Funny Toy Baby -  id: 1005004829830973\n",
      "name: Catry Cat Tree with Scratching Post - Animal Cat Tower – Cat Climber with Jute Cat Scratch Post – Cat Condo -  id: B09QHKZTDN\n",
      "name: OurPets Alpine Cat Scratcher -  id: B005BP8MQ8\n",
      "name: Super Difficult Puzzle Cute Cat Toy -  id: -p-1637014974600065024\n",
      "name: Cats Catch Board And On The Platform -  id: -p-1589888222472187904\n",
      "name: Pet Cat Toy Natural Catnip Pet Cat Matatabi Bell Sound Plush Mouse Cat Toy Bell Funny Cat Suitable Toy For Cats To Play Supplies -  id: 1005002358585669\n",
      "name: Decor Cat Cat Saying If Loving Cats is Wrong I Don't Want to Be Right Decor Cat -  id: B08W3DMY8X\n",
      "name: Cat bell collar -  id: 1005004050080941\n",
      "name: A Bag Of Snack Pillow For The Cat -  id: -p-1614888279319523328\n",
      "name: Purrfect Cat Box , Blue -  id: B07K3YRPDV\n",
      "name: Luxury Cat Climb Pet Cat Tree Tower Condo Cat House Multi-Level Cat House Cat Scratching Post Climbing Frame Jumping Toy -  id: 1005005127468599\n",
      "name: 59inch Large Cat Tree for Cats Big Cat Tower with Cat Condo Cozy Plush Cat Perches Sisal Scratching Posts Hammocks Cat Scratch -  id: 1005005495506495\n",
      "name: 59inch Large Cat Tree for Cats Big Cat Tower with Cat Condo Cozy Plush Cat Perches Sisal Scratching Posts Hammocks Cat Scratch -  id: 1005005495407874\n",
      "name: Ferplast Prima Cabrio Opening Front Hatch Cat Home Toilette, Dove Grey -  id: B013GG1DLE\n",
      "name: Cat Happy Birthday Backdrop Party Decoration Supplies Meow Birthday Backdrop Kitten Photography Background Pet Paw Cat Theme Cartoon Party Photo Backdrop Birthday Party Decorations for Cat Lover -  id: B09TPFBDKQ\n",
      "name: Catry Cat Tree - A Cat Play House Combo with Cat Hammock, Scratching Post, and Comfort Home Invariably Trap Kitten to Stay Around This 30” Easy Assembled Sturdy Cat Furniture, Beige -  id: B09JMRNMBW\n",
      "name: Catry Babylon Cat Tree - A Dynamic Complex Cat Tower with Cat Hammock, Scratching Post, and Playful Toys Invariably Trap Kitten to Stay Around This Easy Assembled Sturdy Cat Furniture (Deluxe) -  id: B09NPD3W11\n",
      "name: Cat's Tree Tower Cat Scraper Home Furniture Pets House Hammock Cats Climbing Furniture Pets House Hammock Cat's Tree Tower -  id: 1005002984491323\n",
      "name: Cute Duck Sisal Cat Scratchers Cat Litter Cat Tree All-in-one Multi-storey Cat House Villa House Cat Climbing Frame Cat Supplies -  id: 1005004667244293\n",
      "name: Sisal Cat Scratcher Cat Scratching Board Cat Houses Kitten Scratching Board Kitten Toy Cat Toys Catnip Cat Scratching House -  id: 1005005539036095\n",
      "name: Cat House House Nest Scratching Board Cat Nest Cat Scratching Board Two-in-one Cute House Cat Shop Cat Shop Owner Cat Furniture -  id: 1005004609211347\n",
      "name: Animals Favorite Cat Condo Perch, Cat Tree with Scratch Post for Small Cats and Kittens (Condo Perch) -  id: B075DNLGWC\n",
      "name: Cat House Scratcher Cat Sisal Mat Kitten Scratching Pad Cat House Indoor Pet Cubes Condos Bed Indoor Cat House Cat Toys Catnip -  id: 1005005532289101\n",
      "name: Funny Cat Grinding Claw Post Pet Supplies Cat Scratcher Cat Tree Tower Scratching Cat Tree Cute Carrot Cat Climbing Post -  id: 1005003396612297\n",
      "name: Handmade Stain Cat Suncatcher for Window,5 Colors Cats Who Love to Climb Windows The Choice of Cat Lovers Suitable for Hanging on The Windows of StudyLiving RoomBedroomOffice (Black) -  id: B0BQF35CBX\n",
      "name: Pet Funny Cat Dog Costume Uniform Suit Cat Costume Puppy Dressing Up Suit Party Clothing Halloween Party Cat Cosplay Clothes -  id: 1005001286241521\n",
      "name: Cat Tree Cat Tower Pet Cat Climbing Frame Cat Scratcher Soft Fleece Cloth Large Size Cat Nest Sisal Scratching Post for Kitten -  id: 1005004622750620\n",
      "name: JWQHJ Flower Cat Tree Cute Scratching Post Indoor Cat Climbing Frame Small Cat Toy Kitten Jumping Platform Colorful Cat Tree Sisal Cat Scratching Post(Bluish Grey) -  id: B0BT4NXTF4\n",
      "name: Catinsider 46.5 inches Cat Tree Multi-Level Cat Tower with Sisal-Covered Scratching Posts, Plush Perches, Hammock and Condo for Cats Light Gray -  id: B08FG4F5B4\n",
      "name: Furrytail Cute Activity Cat Tree Condo with Scratching Post and Teasing Toy, 41-Inch Cat Tower Kitten Play Tunnel House Furniture -  id: B08B1F39T5\n",
      "name: Cat interactive toy fish-shaped pillow cat molar toy built-in catnip pet throwing toys linen stripe fish cat's self-healing toy -  id: 1005004704590304\n",
      "name: Petrageous 13079 Jerrys Rectangular Corrugated Cat Lounge Scratcher 20-Inch Long 12-Inch Wide 3.5-Inch Tall with Cat Nip is Great for Cats, Yellow -  id: B01MCQLDQC\n",
      "name: Catry Cat Tree – Nature Looking of Cat beds and Furniture All-in-1, Allure Cats Love to Lounge in and Lazily Recline While Playing with Cute Bees Toys and Scratching Post, Adjustable Sunflower -  id: B07XSG3LD8\n",
      "name: Pet Plush Toy Catnip Built-in Bell Sounding Cat Supplies To Appease Kittens Poached Egg Rice Balls Interactive Cat Toy -  id: 1005004601319231\n",
      "name: Crazy Cat Lady Wall Art Silhouette Kitten Cat with Funny Tail Home Decor Wall Clock Black Kitty Vinyl Record Clock Cat Pet Lover -  id: 4000155963791\n",
      "name: Sweet Cartoon Cat Cotton Scarf -  id: -p-1635526978449190912\n",
      "name: Catreaier Cat Tree Cat Condo with Large Top Perch Ideal for Small and Medium Cats -  id: B0BXS9VX1X\n",
      "name: Hello Kitty Bowtastic Cat Cube Toy -  id: B00MPTGHN8\n",
      "name: VETRESKA Cat Tree Cat Tower 39.4'' for Indoor Cats with sisal Covered Scratching Posts and Sweetheart Shape Platform, Multi-Level Cat Tower Activity Center Furniture for Kittens Cats and Pets -  id: B09PFYB46H\n",
      "name: TRIXIE Topi Cat Condo with Scratching Surface and Cat Toys, Brown -  id: B000WFJMXE\n",
      "name: Sisal Cat Tree Cactus Style Cat Tower Kitten Climbing Frame Cute Funny Jumping Platform Sisal Cat Scratching Post Pet Supplies -  id: 1005002574801083\n",
      "name: Small And Medium-sized Dog Bowl Cat -  id: -p-1608115551203766272\n",
      "name: Cat Toy Mini Cat Grinding Catnip Toys Funny Interactive Plush Cat Teeth Toys Pet Kitten Chewing Toy Claws Thumb Bite Pet Supply -  id: 1005005348415974\n",
      "name: Cat Cute Lion Mane Cat Wig Pet Small Dog Cats Costume Lion Mane Wig Cap Hat for Cat Dogs Fancy Costume Cosplay Toy Pet Supplies -  id: 1005005205547142\n",
      "name: 6-Foot Cat Tower - Napping Perches, Cat Condo, 9 Sisal Rope Scratching Posts, Hanging Toys and Rope – Cat Tree for Indoor Cats by PETMAKER (Ivory) -  id: B0144DIXIY\n",
      "name: CasaFelidae® Cat Shelf The Perch - Wall Mounted Cat Shelves for Stylish Indoor Cats. Wood Perches for Lounging. Wall Mounted Furniture. Declutter Your Floor and Switch to a Cat Climbing Shelf! -  id: B0BTTHW23Z\n",
      "name: Cat Lion Mane Halloween Costume Lion Costume for Small Cats and Kittens – for Halloween, Cat Birthday, Cat Cosplay, Cat Outfits -  id: 1005004626691039\n",
      "name: Catreaier Small Cat Tree, Cat Condo with Square Hammock, Cat Tower for Kitty -  id: B0BVLV95F5\n",
      "name: Catastrophic Creations The Gardens Cat Condo Cat Wall Furniture for Indoor Cats of All Breed Sizes — Wall Mounted Cat Furniture — Garden-Like Cat Playground w/Planter Shelves for Several Cat Plants -  id: B0711DDDW6\n",
      "name: Cat Is Leisure Life Square Pillowcase, Used for Home Decoration, Car Sofa Cushion Cover45cm*45cm -  id: 1005002583707060\n",
      "name: Axnine Christmas cat House, Cardboard Cat House with Scratcher/Catnip for Indoor Cats,Cat -  id: B09GYDY3JT\n",
      "name: Cat Sign Door Cat in Bathtub Lazy Kitty & Co. Bath Soap Save Water Use Your Tongue Wall Decor Cat Pictures -  id: B08W3BM8BJ\n",
      "name: Catreaier Small Cat Tree with Sisal-Covered Scratching Post for Indoor Cats, Small Cats Only Light Gray -  id: B0BMLMGD1S\n",
      "name: KIYUMI Cute Color Cat Tree Cat Tower Sisal Scratching Posts Cat Condo Play House Hammock Jump Platform Cat Furniture Activity Center Green -  id: B0BG35RRGH\n",
      "name: Catit Cat Scratcher, Wide Cat Board -  id: B0032GEE8S\n",
      "name: Funny Pet Cat ToysInteractive Catnip Toys Clean Molar Teeth Cleaning ToysCute Catnip Ball Cat Toys Interactive Pet Toys -  id: 1005003728175035\n",
      "name: Pyramid - Cat Houses for Indoor Cats with Removable Foam Cat Bed for Kittens or Small Dogs by PETMAKER (Brown) 12 Inch -  id: B00WMVUWIA\n",
      "name: Catinsider 67 Inches Cat Tree, Tall Cat Tower with Two Perches, Deep Basket and Wide Scratching Pad for All Cats Light Gray -  id: B09P393CRG\n",
      "name: Lucky Cat Waving Arm Moving Arm Lucky Fortune Cat Lucky Cat Lucky Money Cat Cute Waving Cat Fengshui Lucky Cat Maneki Neko For -  id: 1005005250235290\n",
      "name: Cat toast mould -  id: -p-F5E6B4F2-0149-46F0-9E84-8BA16B779426\n",
      "name: Catit Senses 2.0 Cat Scratching Post -  id: B015J4I8XC\n",
      "name: Plush Toy Pet Training Cat Nest -  id: -p-1594973199215898624\n",
      "name: Catastrophic Creations Canyon Cat Condo – Cat Tower for Indoor Cats w/ 3 Canvas Cat Hammocks & 1 Cat Bridge – Wall Mounted Cat Tree for Indoor Cats – Sturdy Bamboo Cat Wall Furniture -  id: B0B3GNXJGD\n",
      "name: Cat Tree for Small Cat, 16 inch Grey Cute Cat Tower Scratching Posts for Indoor Cats Three Storey Cat Jumping Platform Cat Toys Pet Play House -  id: B0B9XH5CZ1\n",
      "name: Cat Toy Pet Cat Sisal Scratching Ball Training Interactive Toy for Kitten Pet Cat Supplies Funny Play Feather Toy Cat Accessorie -  id: 1005005491358555\n",
      "name: LA LA CAT Presidential Podium Cat Scratcher | Cute Cat Scratcher with Grooming Brush | Sturdy Cardboard Cat Scratcher with Groomer & Silvervine Included | Cat Scratchers for Indoor Cats -  id: B08GSBYCCV\n",
      "name: Creative Cat Cute Girl Decorative Soft Outfit Home Decoration -  id: -p-1587054806315839488\n",
      "name: Cat Tree Perch with Scratching Posts | 19-Inch Cat Tower Condo with Plush Bed | Furniture Play House Activity Center for Cats | Premium Pet Supplies for Your Home -  id: B07SZ32JVY\n",
      "name: Cat Toys Catnip Toy Series Interactive Cat Toy for Kitten Kitty Exercise Fluffy Plush Animal Toy for Dogs Cat Toys Catnip Toys -  id: 1005002357714382\n",
      "name: PetRageous 13081 Rectangular Corrugated Cat Lounge Scratcher 20-Inch Long 12-Inch Wide 3.5-Inch Tall with Cat Nip is Great for Cats, Multicolored -  id: B01MATRYUQ\n",
      "name: Garfield The Cat Tested and Approved cat condo, Durable Wood Construction, Included Scratcher Pads, Doubles as an Ottoman. Grey -  id: B071P8SX8Y\n",
      "name: LIORCE Wall Mounted Corner Cat Bed - Cat Shelf with Comfortable Cushion - Minimalistic Cat Furniture for Indoor Cats - Climbing Cat Perch for Wall -  id: B0BS8BBDYW\n",
      "name: FISH&NAP US09YH Cute Cat Tree Kitten Cat Tower for Indoor Cat Condo Sisal Scratching Posts with Jump Platform Cat Furniture Activity Center Play House SmokyGrey -  id: B088ZKZ4XF\n",
      "name: Cat Bed Cat Hanging Bed Balcony Window Glass Cat Wooden Hanging Bed Hanging Cat Litter Bedside Four Seasons Universal Cat Hammoc -  id: 1005005431475487\n",
      "name: Cute Office Female Cat Small Animal Desktop Decoration -  id: -p-1573163318624399360\n",
      "name: Iron Stable Cat Climbing Frame Cat Litter Play Rest And Eat Multi-functional Cat Furniture -  id: 1005004654058759\n",
      "name: Cat Tree Cat Tower for Indoor Cats Condo with Scratching Posts Multi-Level Large Hammock Plush Perch for Kittens Cat Activity Center, Light Gray -  id: B0BRSD3R35\n",
      "name: Cute Cat Scratcher Climbing Tree House Cats Climbing Frame Scratching Post for Cats Tower Board Toy Pet Products Pets Furniture -  id: 1005002617026122\n",
      "name: TRIXIE Pet Products 3-Story Cat's House -  id: B008EDLM8O\n",
      "name: Cute Pets Cat Toy Catnip Kitten Funny Teaser Wand Stick Cat Mint Pet Kitten Teaser Playing Interactive Toy Home Pet Supplies -  id: 1005004934878328\n",
      "name: LBEC Cat Scratching Post Funny Sisal Cat Ball Interactive Claws Safe Tummies Relieve Boredom AntiScratch Training (Yellow) -  id: B0BP4WMVHZ\n",
      "name: Cat Scratching Board Cat Toy Tunnel Catnip Cat Mouse Kitten Training Intelligence Pet Cat Toys Tracks Tower Ball For Cats Kitten -  id: 1005003103997639\n",
      "name: PETEPELA Cat Tree Cat Tower for Indoor Cats,5-Level Cat Play House Cat Activity Center with Scratching Posts Beige -  id: B098DVX4YB\n",
      "name: MPK New Series Cat Toy Small Cat Toy New Octopus Design Cat Treat Toy Small Cat Toy -  id: 1005002861885750\n",
      "name: Good Buy Cat Scratching Board -  id: B084HJZMVZ\n",
      "name: Funny Catnip Toys Cute Avocado Teeth Cleaning Cat Supplies Catnip Mini Toys Fashion Interactive Pet Toys cat toys interactive -  id: 1005004728685101\n",
      "name: SENNAUX Adorable Cat Tree with Sisal Scratching Post Cat Climbing Activity Flower Tower Pet Playgournd for Cats Kittens Pets 4 Layers 35\" H -  id: B097P2H7FQ\n",
      "name: Cat Beds for Indoor Cats. - Cute Cat Bed Cave with Hanging Toy. Calming Cozy Soft Cat Hut. Small Cat Houses with Removable Washable Cushioned Pillow. Portable No Deformation Pet Bed. (Medium, Green) -  id: B0C2KG8CNQ\n",
      "name: Cat Tree with Dangling Ball, Multi-Level Cat Tower with Sisal Posts for Indoor Cats,Cat Furniture for Kitten and Adult Cats -  id: B0847PVBP8\n",
      "name: 2pcs Pet Ball Avocado Catnip Toy Healthy Natural Catnip Mint Cats for Kitten Treating Home Chasing Game Cleaning Molar Teeth Toy -  id: 1005003653054535\n",
      "name: Cat Craft Replacement or Hanging Corrugate Cardboard Cat Scratcher with Catnip -  id: B0BL6QR764\n",
      "name: Pet Supplies cat Climbing Frame cat nest cat Grabbing Board cat Tree cat Supplies pet cat Toys (Grey) -  id: B0BWQTXMMN\n",
      "name: Mora Pets Modern Cat Tree Tower for Indoor Cats 32.5 Inch Large Cat Tree Heavy Duty Cat Condo Furniture with Sisal Scratching Posts and Platform Tall Cat Climbing Tower for Small Large Cats -  id: B0BVLN7YWQ\n",
      "name: Tiger Flower Cat Climbing Frame Cat Nest Cat Tree Mushroom Pet Cat Scratch Board Sisal Jumping Platform Scratching Pole Cat Toy -  id: 1005004991838228\n",
      "name: Small Cat Tree 19 inch Cat Tower with Dangling Ball and Perch Fish Shaped Cat Jumping Platform -  id: B0BJ1C6RYN\n",
      "name: 3-Tier Cat Tower - 2 Napping Perches, Peek Hole, 2 Sisal Rope Scratching Posts, and Hanging Toy – Cat Tree for Indoor Cats by PETMAKER (Black) -  id: B06WD83WR4\n",
      "name: 2022 Hot Mice Animal Cat Toys Catnip Interactive Cat Ball Pet Products Kitten toys Cat Supplies Cat toy -  id: 1005004865512555\n",
      "name: Cute Cat Climbing Frame Cat Scratch Board Small Claw Grinding Toy Cat Scratch Ball Orange Shape -  id: 1005004635444852\n",
      "name: Tofern 41.3 inch Cat Tree Tower Unicorn Pink Cat Condos for Indoor Cats with Scratching Posts Plush Cute Kitten Activity Center Furniture Stable Large Cat Stand Climbing Tower Tall Pet Play House -  id: B08BZ36F85\n",
      "name: Meowoou Cat Scratching Post 33 inch Tall Scratching Post for Indoor Cats Large Cat Scratching Post with Sisal Rope Cat Scratcher for Indoor Cats Cute Cat Scratching Post for Kitten -  id: B0B54T6MPJ\n"
     ]
    }
   ],
   "source": [
    "query = input('Enter your query: ')\n",
    "results = semantic_search(query, name_embeddings, names, ids, top_k=100)\n",
    "for name, idx in results:\n",
    "    print(f'name: {name} -  id: {idx}')\n"
   ]
  },
  {
   "cell_type": "code",
   "execution_count": 14,
   "metadata": {},
   "outputs": [],
   "source": [
    "# Save the embeddings\n",
    "torch.save(name_embeddings, 'name_embeddings_items.pt')\n"
   ]
  },
  {
   "cell_type": "code",
   "execution_count": null,
   "metadata": {},
   "outputs": [],
   "source": []
  }
 ],
 "metadata": {
  "kernelspec": {
   "display_name": "venv",
   "language": "python",
   "name": "python3"
  },
  "language_info": {
   "codemirror_mode": {
    "name": "ipython",
    "version": 3
   },
   "file_extension": ".py",
   "mimetype": "text/x-python",
   "name": "python",
   "nbconvert_exporter": "python",
   "pygments_lexer": "ipython3",
   "version": "3.10.6"
  },
  "orig_nbformat": 4
 },
 "nbformat": 4,
 "nbformat_minor": 2
}
